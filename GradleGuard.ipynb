{
 "cells": [
  {
   "cell_type": "markdown",
   "metadata": {},
   "source": [
    "# The GradleGuard Project"
   ]
  },
  {
   "cell_type": "markdown",
   "metadata": {},
   "source": [
    "## 1. Building the Project"
   ]
  },
  {
   "cell_type": "code",
   "execution_count": 20,
   "metadata": {},
   "outputs": [
    {
     "name": "stdout",
     "output_type": "stream",
     "text": [
      "\n",
      "FAILURE: Build failed with an exception.\n",
      "\n",
      "* Where:\n",
      "Settings file '/home/maister/Projects/cryptoguard/GradleGuard/settings.gradle' line: 1\n",
      "\n",
      "* What went wrong:\n",
      "A problem occurred evaluating settings 'GradleGuard'.\n",
      "> Could not find method pluginManagement() for arguments [settings_6oscntfp4rer66vrcpshb6c8ul$_run_closure1@66238be2] on settings 'GradleGuard'.\n",
      "\n",
      "* Try:\n",
      "Run with --stacktrace option to get the stack trace. Run with --info or --debug option to get more log output.\n",
      "\n",
      "BUILD FAILED\n",
      "\n",
      "Total time: 1.183 secs\n"
     ]
    }
   ],
   "source": [
    "%system env JAVA_HOME=/home/maister/.sdkman/candidates/java/8.0.252.hs-adpt/ gradle clean buildenv JAVA_HOME=/path/to/java"
   ]
  },
  {
   "cell_type": "markdown",
   "metadata": {},
   "source": []
  },
  {
   "cell_type": "markdown",
   "metadata": {},
   "source": []
  },
  {
   "cell_type": "markdown",
   "metadata": {},
   "source": []
  },
  {
   "cell_type": "markdown",
   "metadata": {},
   "source": []
  },
  {
   "cell_type": "markdown",
   "metadata": {},
   "source": []
  },
  {
   "cell_type": "markdown",
   "metadata": {},
   "source": []
  },
  {
   "cell_type": "markdown",
   "metadata": {},
   "source": []
  },
  {
   "cell_type": "markdown",
   "metadata": {},
   "source": []
  },
  {
   "cell_type": "markdown",
   "metadata": {},
   "source": []
  },
  {
   "cell_type": "markdown",
   "metadata": {},
   "source": []
  },
  {
   "cell_type": "markdown",
   "metadata": {},
   "source": []
  }
 ],
 "metadata": {
  "kernelspec": {
   "display_name": "Java",
   "language": "java",
   "name": "java"
  },
  "language_info": {
   "codemirror_mode": "java",
   "file_extension": ".jshell",
   "mimetype": "text/x-java-source",
   "name": "Java",
   "pygments_lexer": "java",
   "version": "11.0.7+10"
  }
 },
 "nbformat": 4,
 "nbformat_minor": 4
}
