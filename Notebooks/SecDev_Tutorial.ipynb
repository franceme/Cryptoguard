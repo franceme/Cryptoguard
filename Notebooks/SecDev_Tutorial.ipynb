{
 "cells": [
  {
   "cell_type": "markdown",
   "metadata": {},
   "source": [
    "# SecDev Sampling Tutorial"
   ]
  },
  {
   "cell_type": "markdown",
   "metadata": {},
   "source": [
    "## Native Testing Imports"
   ]
  },
  {
   "cell_type": "code",
   "execution_count": 2,
   "metadata": {},
   "outputs": [],
   "source": [
    "// Importing the local CryptoGuard Jar\n",
    "List <String> addedJars = %jars *.jar\n",
    "//*/\n",
    "\n",
    "// Maven Imports\n",
    "%maven junit:junit:4.12\n",
    "%maven org.apache.commons:commons-io:1.3.2\n",
    "%maven commons-io:commons-io:2.7\n",
    "%maven com.binarytweed:quarantining-test-runner:0.0.3\n",
    "\n",
    "// Gradle imports\n",
    "import static org.junit.Assert.assertFalse;\n",
    "import static org.junit.Assert.assertTrue;\n",
    "import static org.junit.Assert.assertEquals;\n",
    "import static org.junit.Assert.assertNull;\n",
    "import static org.junit.Assert.assertNotNull;\n",
    "import static util.Utils.makeArg;\n",
    "import frontEnd.Interface.outputRouting.ExceptionHandler;\n",
    "import frontEnd.Interface.ArgumentsCheck;\n",
    "import frontEnd.MessagingSystem.routing.Listing;\n",
    "import frontEnd.MessagingSystem.routing.EnvironmentInformation;\n",
    "import frontEnd.MessagingSystem.routing.structure.Default.Report;\n",
    "import frontEnd.MessagingSystem.routing.structure.Scarf.AnalyzerReport;\n",
    "import frontEnd.MessagingSystem.routing.structure.Scarf.BugInstance;\n",
    "import frontEnd.Interface.EntryPoint;\n",
    "import rule.engine.EngineType;\n",
    "import frontEnd.argsIdentifier;\n",
    "import java.io.File;\n",
    "import java.nio.charset.StandardCharsets;\n",
    "import java.nio.file.Files;\n",
    "import java.nio.file.Paths;\n",
    "import java.util.ArrayList;\n",
    "import java.util.Arrays;\n",
    "import java.util.List;\n",
    "import org.junit.After;\n",
    "import org.junit.Before;\n",
    "import org.junit.Test;\n",
    "import org.junit.runner.RunWith;\n",
    "import soot.G;\n",
    "import util.Utils;\n",
    "import org.apache.commons.io.FileUtils;\n",
    "import java.util.Scanner;\n",
    "import org.apache.commons.io.filefilter.WildcardFileFilter;\n",
    "import com.binarytweed.test.Quarantine;\n",
    "import com.binarytweed.test.QuarantiningRunner;"
   ]
  },
  {
   "cell_type": "markdown",
   "metadata": {},
   "source": [
    "## Loading the Custom Java And APK Versions"
   ]
  },
  {
   "cell_type": "code",
   "execution_count": null,
   "metadata": {},
   "outputs": [],
   "source": [
    "String cur_user = System.getProperty(\"user.name\");\n",
    "String java_home = \"/home/\" + cur_user + \"/.sdkman/candidates/java/8*.0.25*\";\n",
    "String java7_home = \"/home/\" + cur_user + \"/.sdkman/candidates/java/7*\";\n",
    "String android_home = \"/home/\" + cur_user + \"/.sdkman/candidates/android/current\";\n",
    "\n",
    "//Retrieving a specific path from a wild card based list\n",
    "public static String getFileFromWildCard(String path) {\n",
    "\tString[] split = path.split(\"/\");\n",
    "\tStringBuilder build = new StringBuilder();\n",
    "\tfor (int itr = 0;itr < split.length - 1;itr ++)\n",
    "\t\tbuild.append(split[itr]).append(\"/\");\n",
    "\n",
    "\tString[] files = new File(build.toString()).list(new WildcardFileFilter(split[split.length-1]));\n",
    "\n",
    "\tif (files.length > 0)\n",
    "\t\treturn build.toString() + files[files.length - 1];\n",
    "\telse\n",
    "\t\treturn null;\n",
    "}\n",
    "\n",
    "java_home = getFileFromWildCard(java_home);\n",
    "java7_home = getFileFromWildCard(java7_home);\n",
    "\n",
    "public static void print(String file) {\n",
    "\ttry {\n",
    "\tScanner reader = new Scanner(new File(file));\n",
    "\n",
    "\twhile (reader.hasNextLine()) System.out.println(reader.nextLine());\n",
    "\t} catch (FileNotFoundException e) {\n",
    "\t}\n",
    "}"
   ]
  },
  {
   "cell_type": "markdown",
   "metadata": {},
   "source": [
    "## Test Setup"
   ]
  },
  {
   "cell_type": "code",
   "execution_count": null,
   "metadata": {},
   "outputs": [],
   "source": [
    "// region String Statics\n",
    "public static final Boolean isLinux = !System.getProperty(\"os.name\").contains(\"Windows\");\n",
    "\n",
    "public static final String basePath = System.getProperty(\"user.dir\");\n",
    "public static final String testRec = Utils.osPathJoin(basePath, \"samples\");\n",
    "public static final String testPath = Utils.osPathJoin(basePath, \"tmp\");\n",
    "\n",
    "FileUtils.deleteDirectory(new File (testPath));\n",
    "new File(testPath).mkdirs();"
   ]
  },
  {
   "cell_type": "markdown",
   "metadata": {},
   "source": [
    "## APK Setup"
   ]
  },
  {
   "cell_type": "code",
   "execution_count": null,
   "metadata": {},
   "outputs": [],
   "source": [
    "public static final String scarfArgs = Utils.osPathJoin(basePath, \"src\", \"main\", \"resources\", \"Scarf\", \"sample.properties\");\n",
    "\n",
    "public static final String tempFileOutApk = Utils.osPathJoin(testPath, \"app-debug.txt\");\n",
    "public static final String tempFileOutApk_CSV = Utils.osPathJoin(testPath, \"app-debug.csv\");\n",
    "public static final String tempFileOutApk_Steam = Utils.osPathJoin(testPath, \"app-debug_Stream.txt\");\n",
    "public static final String tempFileOutApk_CSVStream = Utils.osPathJoin(testPath, \"app-debug_Stream.csv\");\n",
    "public static final String tempFileOutApk_Scarf = Utils.osPathJoin(testPath, \"app-debug.xml\");\n",
    "public static final String tempFileOutApk_Scarf_XArgs = Utils.osPathJoin(testPath, \"app-debug_XArgs.xml\");\n",
    "public static final String tempFileOutApk_Scarf_Steam = Utils.osPathJoin(testPath, \"app-debug_Stream.xml\");\n",
    "public static final String tempFileOutApk_Default = Utils.osPathJoin(testPath, \"app-debug.json\");\n",
    "public static final String tempFileOutApk_Default_Steam = Utils.osPathJoin(testPath, \"app-debug_Stream.json\");\n",
    "\n",
    "public static final String pathToAPK = Utils.osPathJoin(testRec, \"app-debug.apk\");"
   ]
  },
  {
   "cell_type": "markdown",
   "metadata": {},
   "source": [
    "## APK Test One"
   ]
  },
  {
   "cell_type": "code",
   "execution_count": null,
   "metadata": {},
   "outputs": [],
   "source": [
    "@RunWith(QuarantiningRunner.class)\n",
    "@Quarantine({\"com.binarytweed\", \"*\"})\n",
    "public class main_TestableApk_Legacy {\n",
    "\tpublic static void apply() {\n",
    "\t  G.reset();\n",
    "\t  String fileOut = tempFileOutApk;\n",
    "\n",
    "\t  new File(fileOut).delete();\n",
    "\t  if (isLinux) {\n",
    "\t\tString args =\n",
    "\t\t\tmakeArg(argsIdentifier.FORMAT, EngineType.APK)\n",
    "\t\t\t\t+ makeArg(argsIdentifier.SOURCE, pathToAPK)\n",
    "\t\t\t\t+ makeArg(argsIdentifier.FORMATOUT, Listing.Legacy)\n",
    "\t\t\t\t+ makeArg(argsIdentifier.ANDROID, android_home)\n",
    "\t\t\t\t+ makeArg(argsIdentifier.JAVA, java_home)\n",
    "\t\t\t\t+ makeArg(argsIdentifier.NOEXIT)\n",
    "\t\t\t\t+ makeArg(argsIdentifier.OUT, fileOut);\n",
    "\n",
    "\t\ttry {\n",
    "\t\t  EntryPoint.main(args.split(\" \"));\n",
    "\n",
    "\t\t  List<String> results = Files.readAllLines(Paths.get(fileOut), StandardCharsets.UTF_8);\n",
    "\t\t  assertTrue(results.size() >= 10);\n",
    "\t\t  print(fileOut);\n",
    "\t\t} catch (Exception e) {\n",
    "\t\t  e.printStackTrace();\n",
    "\t\t  assertNull(e);\n",
    "\t\t}\n",
    "\t  }\n",
    "\t}\n",
    "}"
   ]
  },
  {
   "cell_type": "code",
   "execution_count": null,
   "metadata": {},
   "outputs": [],
   "source": [
    "//main_TestableApk_Legacy.apply()"
   ]
  }
 ],
 "metadata": {
  "kernelspec": {
   "display_name": "Java",
   "language": "java",
   "name": "java"
  },
  "language_info": {
   "codemirror_mode": "java",
   "file_extension": ".jshell",
   "mimetype": "text/x-java-source",
   "name": "Java",
   "pygments_lexer": "java",
   "version": "11.0.7+10"
  }
 },
 "nbformat": 4,
 "nbformat_minor": 4
}
